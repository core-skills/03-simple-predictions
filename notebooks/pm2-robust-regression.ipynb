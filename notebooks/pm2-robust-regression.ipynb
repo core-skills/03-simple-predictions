{
 "cells": [
  {
   "cell_type": "markdown",
   "metadata": {},
   "source": [
    "# Robust Regression"
   ]
  },
  {
   "cell_type": "code",
   "execution_count": null,
   "metadata": {},
   "outputs": [],
   "source": [
    "import numpy as np\n",
    "import pandas as pd\n",
    "import matplotlib.pyplot as plt\n",
    "%matplotlib inline\n",
    "\n",
    "from sklearn.model_selection import train_test_split\n",
    "from sklearn import linear_model"
   ]
  },
  {
   "cell_type": "markdown",
   "metadata": {},
   "source": [
    "## Outliers"
   ]
  },
  {
   "cell_type": "code",
   "execution_count": null,
   "metadata": {},
   "outputs": [],
   "source": [
    "# Let's use the same data from earlier this morning and add some error\n",
    "n = 100\n",
    "x = np.arange(1,n).reshape(-1,1)\n",
    "y = np.array([(i**2)+(10*i)*(np.sin(i)+1) for i in x])\n",
    "plt.scatter(x,y)"
   ]
  },
  {
   "cell_type": "code",
   "execution_count": null,
   "metadata": {},
   "outputs": [],
   "source": [
    "# Add some problem data points\n",
    "noutlier = 20"
   ]
  },
  {
   "cell_type": "markdown",
   "metadata": {},
   "source": [
    "By making the number of outliers a variable it is easy to adjust and rerun to see how the number of outliers changes the ability to fit a model"
   ]
  },
  {
   "cell_type": "code",
   "execution_count": null,
   "metadata": {},
   "outputs": [],
   "source": [
    "x = \n",
    "y = "
   ]
  },
  {
   "cell_type": "code",
   "execution_count": null,
   "metadata": {},
   "outputs": [],
   "source": [
    "plt.scatter(x,y)"
   ]
  },
  {
   "cell_type": "code",
   "execution_count": null,
   "metadata": {},
   "outputs": [],
   "source": [
    "def make_plots(title=None):\n",
    "    \"\"\"\n",
    "    Plot residual and model fit plots. The assumption of outside\n",
    "    function variable names that this function is based on is bad practice.\n",
    "    \"\"\""
   ]
  },
  {
   "cell_type": "markdown",
   "metadata": {},
   "source": [
    "## Regression Model"
   ]
  },
  {
   "cell_type": "markdown",
   "metadata": {},
   "source": [
    "Be sure to apply the transformation that we found earlier and separate out test and training sets"
   ]
  },
  {
   "cell_type": "code",
   "execution_count": null,
   "metadata": {},
   "outputs": [],
   "source": []
  },
  {
   "cell_type": "markdown",
   "metadata": {},
   "source": [
    "### General regression model"
   ]
  },
  {
   "cell_type": "code",
   "execution_count": null,
   "metadata": {},
   "outputs": [],
   "source": [
    "model = \n",
    "model.fit()\n",
    "print(\"R^2: \",model.score(x_test, y_test))\n",
    "print(\"Slope: \", model.coef_)\n",
    "print(\"Intercept: \", model.intercept_)\n",
    "pred_test = \n",
    "res_test = \n",
    "pred = \n",
    "res = "
   ]
  },
  {
   "cell_type": "code",
   "execution_count": null,
   "metadata": {},
   "outputs": [],
   "source": [
    "make_plots('OLS Regression')"
   ]
  },
  {
   "cell_type": "markdown",
   "metadata": {},
   "source": [
    "## RANSAC"
   ]
  },
  {
   "cell_type": "code",
   "execution_count": null,
   "metadata": {},
   "outputs": [],
   "source": [
    "ransac = linear_model.RANSACRegressor()\n",
    "ransac.fit()\n",
    "print(\"R^2: \",ransac.score(x_test, y_test))\n",
    "pred_test = \n",
    "res_test = \n",
    "pred = \n",
    "res = "
   ]
  },
  {
   "cell_type": "code",
   "execution_count": null,
   "metadata": {},
   "outputs": [],
   "source": [
    "make_plots('RANSAC Regression')"
   ]
  },
  {
   "cell_type": "markdown",
   "metadata": {},
   "source": [
    "## Theil-Sen"
   ]
  },
  {
   "cell_type": "code",
   "execution_count": null,
   "metadata": {},
   "outputs": [],
   "source": [
    "theil_sen = linear_model.TheilSenRegressor(random_state=3)\n",
    "theil_sen.fit(x_train, y_train.ravel())\n",
    "print(\"R^2: \",theil_sen.score(x_test, y_test))\n",
    "pred_test = \n",
    "res_test = \n",
    "pred = \n",
    "res = "
   ]
  },
  {
   "cell_type": "code",
   "execution_count": null,
   "metadata": {},
   "outputs": [],
   "source": [
    "make_plots('Theil-Sen Regression')"
   ]
  },
  {
   "cell_type": "markdown",
   "metadata": {},
   "source": [
    "## Huber "
   ]
  },
  {
   "cell_type": "code",
   "execution_count": null,
   "metadata": {},
   "outputs": [],
   "source": [
    "huber = linear_model.HuberRegressor()\n",
    "huber.fit(x_train, y_train.ravel())\n",
    "print(\"R^2: \",huber.score(x_test, y_test))\n",
    "pred_test = \n",
    "res_test = \n",
    "pred = \n",
    "res = "
   ]
  },
  {
   "cell_type": "code",
   "execution_count": null,
   "metadata": {},
   "outputs": [],
   "source": [
    "make_plots('Huber Regression')"
   ]
  },
  {
   "cell_type": "markdown",
   "metadata": {},
   "source": [
    "### Comparison"
   ]
  },
  {
   "cell_type": "code",
   "execution_count": null,
   "metadata": {},
   "outputs": [],
   "source": [
    "print(\"R^2 OLS: \",model.score(x_test, y_test))\n",
    "print(\"R^2 RANSAC: \",ransac.score(x_test, y_test))\n",
    "print(\"R^2 Theil-Sen: \",theil_sen.score(x_test, y_test))\n",
    "print(\"R^2 Huber: \",huber.score(x_test, y_test))"
   ]
  },
  {
   "cell_type": "code",
   "execution_count": null,
   "metadata": {},
   "outputs": [],
   "source": [
    "plt.scatter(x,y,label='Transformed Data')\n",
    "xseq = np.linspace(0,100,num=100).reshape(-1, 1)\n",
    "plt.plot(xseq,model.predict(xseq),label='OLS')\n",
    "plt.plot(xseq,ransac.predict(xseq),label='RANSAC')\n",
    "plt.plot(xseq,theil_sen.predict(xseq),label='Theil-Sen')\n",
    "plt.plot(xseq,huber.predict(xseq),label='Huber')\n",
    "plt.legend()"
   ]
  },
  {
   "cell_type": "code",
   "execution_count": null,
   "metadata": {},
   "outputs": [],
   "source": [
    "plt.scatter(x,y**2,label='Data')\n",
    "xseq = np.linspace(0,100,num=100).reshape(-1, 1)\n",
    "plt.plot(xseq,model.predict(xseq)**2,label='OLS')\n",
    "plt.plot(xseq,ransac.predict(xseq)**2,label='RANSAC')\n",
    "plt.plot(xseq,theil_sen.predict(xseq)**2,label='Theil-Sen')\n",
    "plt.plot(xseq,huber.predict(xseq)**2,label='Huber')\n",
    "plt.legend()"
   ]
  },
  {
   "cell_type": "code",
   "execution_count": null,
   "metadata": {},
   "outputs": [],
   "source": []
  }
 ],
 "metadata": {
  "kernelspec": {
   "display_name": "Python 3",
   "language": "python",
   "name": "python3"
  },
  "language_info": {
   "codemirror_mode": {
    "name": "ipython",
    "version": 3
   },
   "file_extension": ".py",
   "mimetype": "text/x-python",
   "name": "python",
   "nbconvert_exporter": "python",
   "pygments_lexer": "ipython3",
   "version": "3.8.5"
  }
 },
 "nbformat": 4,
 "nbformat_minor": 2
}
